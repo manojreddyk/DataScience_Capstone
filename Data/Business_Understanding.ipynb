{
 "cells": [
  {
   "cell_type": "markdown",
   "metadata": {},
   "source": [
    "#Applied Data Science Capstone Project\n",
    "## Business Problem understanding\n"
   ]
  },
  {
   "cell_type": "markdown",
   "metadata": {},
   "source": [
    "\n",
    "As part of our final Capstone project I am planning to use shared dataset\n",
    "for Collissions occurred in Seattle city. Using this Dataset we will try to understand how the various conditions /variables of environment will impact the severity of the Collissions. We are going to try and understand the influence of weather , road , light conditions, type of collission , number of people involved  and other conditions/factors  to see how it impacts and predict the severity of the collissions.  Goverment workers can use this model to improve the conditions in public roads to reduce the severity of collisions. \n"
   ]
  },
  {
   "cell_type": "code",
   "execution_count": null,
   "metadata": {},
   "outputs": [],
   "source": []
  }
 ],
 "metadata": {
  "kernelspec": {
   "display_name": "Python 3",
   "language": "python",
   "name": "python3"
  },
  "language_info": {
   "codemirror_mode": {
    "name": "ipython",
    "version": 3
   },
   "file_extension": ".py",
   "mimetype": "text/x-python",
   "name": "python",
   "nbconvert_exporter": "python",
   "pygments_lexer": "ipython3",
   "version": "3.8.3"
  }
 },
 "nbformat": 4,
 "nbformat_minor": 4
}
